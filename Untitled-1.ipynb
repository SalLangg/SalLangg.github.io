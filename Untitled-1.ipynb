{
 "cells": [
  {
   "cell_type": "markdown",
   "id": "27df3b9c",
   "metadata": {},
   "source": [
    "Input: height = [1,8,6,2,5,4,8,3,7]\n",
    "Output: 49\n",
    "Explanation: The above vertical lines are represented by array [1,8,6,2,5,4,8,3,7]. In this case, the max area of water (blue section) the container can contain is 49."
   ]
  },
  {
   "cell_type": "code",
   "execution_count": null,
   "id": "2d0ba21c",
   "metadata": {},
   "outputs": [
    {
     "data": {
      "text/plain": [
       "49"
      ]
     },
     "execution_count": 11,
     "metadata": {},
     "output_type": "execute_result"
    }
   ],
   "source": [
    "\n",
    "def maxArea(height):\n",
    "    info = {\n",
    "        'max_value':max(height),\n",
    "        'indexes':[numb for numb, h in enumerate(height) if h == max(height)]\n",
    "    }\n",
    "\n",
    "    indexes = info['indexes']\n",
    "    height_len = len(height)\n",
    "\n",
    "    if len(indexes) > 1:\n",
    "        pre_max = (indexes[-1] - indexes[0]) * info['max_value']\n",
    "        mode_multilen = True\n",
    "    else:\n",
    "        pre_max = 0\n",
    "        mode_multilen = False\n",
    "\n",
    "    for numb, h in enumerate(height):\n",
    "        index = indexes[0]\n",
    "        meybe_max = abs(numb - index) * h\n",
    "        if meybe_max > pre_max:\n",
    "            pre_max = meybe_max\n",
    "\n",
    "    return pre_max\n",
    "\n",
    "maxArea(height=[1,2,1])"
   ]
  }
 ],
 "metadata": {
  "kernelspec": {
   "display_name": "Python 3",
   "language": "python",
   "name": "python3"
  },
  "language_info": {
   "codemirror_mode": {
    "name": "ipython",
    "version": 3
   },
   "file_extension": ".py",
   "mimetype": "text/x-python",
   "name": "python",
   "nbconvert_exporter": "python",
   "pygments_lexer": "ipython3",
   "version": "3.12.0"
  }
 },
 "nbformat": 4,
 "nbformat_minor": 5
}
