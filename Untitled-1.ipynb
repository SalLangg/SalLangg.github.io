{
 "cells": [
  {
   "cell_type": "markdown",
   "id": "27df3b9c",
   "metadata": {},
   "source": [
    "Input: height = [1,8,6,2,5,4,8,3,7]\n",
    "Output: 49\n",
    "Explanation: The above vertical lines are represented by array [1,8,6,2,5,4,8,3,7]. In this case, the max area of water (blue section) the container can contain is 49."
   ]
  },
  {
   "cell_type": "code",
   "execution_count": 1,
   "id": "2d0ba21c",
   "metadata": {},
   "outputs": [
    {
     "data": {
      "text/plain": [
       "1"
      ]
     },
     "execution_count": 1,
     "metadata": {},
     "output_type": "execute_result"
    }
   ],
   "source": [
    "\n",
    "def maxArea(height):\n",
    "    info = {\n",
    "        'max_value':max(height),\n",
    "        'indexes':[numb for numb, h in enumerate(height) if h == max(height)]\n",
    "    }\n",
    "\n",
    "    indexes = info['indexes']\n",
    "    height_len = len(height)\n",
    "\n",
    "    if len(indexes) > 1:\n",
    "        pre_max = (indexes[-1] - indexes[0]) * info['max_value']\n",
    "        mode_multilen = True\n",
    "    else:\n",
    "        pre_max = 0\n",
    "        mode_multilen = False\n",
    "\n",
    "    for numb, h in enumerate(height):\n",
    "        index = indexes[0]\n",
    "        meybe_max = abs(numb - index) * h\n",
    "        if meybe_max > pre_max:\n",
    "            pre_max = meybe_max\n",
    "\n",
    "    return pre_max\n",
    "\n",
    "maxArea(height=[1,2,1])"
   ]
  },
  {
   "cell_type": "code",
   "execution_count": 6,
   "id": "4d82732d",
   "metadata": {},
   "outputs": [
    {
     "data": {
      "text/plain": [
       "False"
      ]
     },
     "execution_count": 6,
     "metadata": {},
     "output_type": "execute_result"
    }
   ],
   "source": [
    "def isPalindrome(x: int) -> bool:\n",
    "    str_x = str(x)\n",
    "    return True if str_x == str_x[::-1] else False\n",
    "\n",
    "isPalindrome(x=-121)"
   ]
  },
  {
   "cell_type": "code",
   "execution_count": 14,
   "id": "be8f9027",
   "metadata": {},
   "outputs": [
    {
     "data": {
      "text/plain": [
       "['a', '']"
      ]
     },
     "execution_count": 14,
     "metadata": {},
     "output_type": "execute_result"
    }
   ],
   "source": [
    "s = \"aa\" \n",
    "p = \"a*\"\n",
    "p_spl = p.split('*') if '*' in p else p\n",
    "\n",
    "# if isinstance(p_spl, str) and s == p:\n",
    "#     return True\n",
    "# else:\n",
    "#     return False\n",
    "p_spl\n",
    "\n"
   ]
  },
  {
   "cell_type": "code",
   "execution_count": 17,
   "id": "add21a20",
   "metadata": {},
   "outputs": [
    {
     "name": "stdout",
     "output_type": "stream",
     "text": [
      "[1, 2]\n"
     ]
    }
   ],
   "source": [
    "nums = [3,2,4]\n",
    "target = 6\n",
    "for num, value in enumerate(nums):\n",
    "    scale = target - value\n",
    "    if scale in nums[num+1:]:\n",
    "        n = nums.index(scale)\n",
    "        print([num, n])\n",
    "        break"
   ]
  },
  {
   "cell_type": "code",
   "execution_count": 28,
   "id": "0e40c767",
   "metadata": {},
   "outputs": [
    {
     "name": "stdout",
     "output_type": "stream",
     "text": [
      "[0, 0, 1, 1, 1, 2, 2, 3, 3, 4]\n",
      "[0, 0, 1, 1, 1, 2, 2, 3, 3, 4]\n",
      "[0, 1, 1, 1, 1, 2, 2, 3, 3, 4]\n",
      "[0, 1, 1, 1, 1, 2, 2, 3, 3, 4]\n",
      "[0, 1, 1, 1, 1, 2, 2, 3, 3, 4]\n",
      "[0, 1, 2, 1, 1, 2, 2, 3, 3, 4]\n",
      "[0, 1, 2, 1, 1, 2, 2, 3, 3, 4]\n",
      "[0, 1, 2, 3, 1, 2, 2, 3, 3, 4]\n",
      "[0, 1, 2, 3, 1, 2, 2, 3, 3, 4]\n"
     ]
    },
    {
     "data": {
      "text/plain": [
       "[0, 1, 2, 3, 4, 2, 2, 3, 3, 4]"
      ]
     },
     "execution_count": 28,
     "metadata": {},
     "output_type": "execute_result"
    }
   ],
   "source": [
    "nums = [0,0,1,1,1,2,2,3,3,4]\n",
    " \n",
    "k = 1 \n",
    "for i in range(1, len(nums)):\n",
    "    print(nums)\n",
    "    if nums[i] != nums[i-1]:\n",
    "        nums[k] = nums[i]\n",
    "        k += 1\n",
    "nums"
   ]
  },
  {
   "cell_type": "code",
   "execution_count": 31,
   "id": "338af0e7",
   "metadata": {},
   "outputs": [
    {
     "name": "stdout",
     "output_type": "stream",
     "text": [
      "{'m', 'r', 'n', 'a', 'g'} {'m', 'r', 'n', 'a', 'g'}\n",
      "False\n"
     ]
    }
   ],
   "source": [
    "s =\"anagram\"\n",
    "t =\"nagaram\"\n",
    "set_t = set(t)\n",
    "set_s = set(s)\n",
    "\n",
    "print(set_t, set_s)\n",
    "if len(set_s) != set_t:\n",
    "    print(False)\n",
    "\n",
    "# for char in set_t:\n",
    "#     if s.count(char) != t.count(char):\n",
    "#         return False\n",
    "#         break\n",
    "\n",
    "# return True"
   ]
  },
  {
   "cell_type": "code",
   "execution_count": null,
   "id": "ac92e00a",
   "metadata": {},
   "outputs": [
    {
     "data": {
      "text/plain": [
       "'ab_a'"
      ]
     },
     "execution_count": 8,
     "metadata": {},
     "output_type": "execute_result"
    }
   ],
   "source": [
    "import re\n",
    "s =\"ab_a\"\n",
    "new_s = re.sub(r'[^\\w]', '', s).lower()\n",
    "new_s \n",
    "# return new_s == new_s[::-1]"
   ]
  },
  {
   "cell_type": "code",
   "execution_count": null,
   "id": "f48b8947",
   "metadata": {},
   "outputs": [
    {
     "data": {
      "text/plain": [
       "3"
      ]
     },
     "execution_count": 35,
     "metadata": {},
     "output_type": "execute_result"
    },
    {
     "ename": "",
     "evalue": "",
     "output_type": "error",
     "traceback": [
      "\u001b[1;31mThe Kernel crashed while executing code in the current cell or a previous cell. \n",
      "\u001b[1;31mPlease review the code in the cell(s) to identify a possible cause of the failure. \n",
      "\u001b[1;31mClick <a href='https://aka.ms/vscodeJupyterKernelCrash'>here</a> for more info. \n",
      "\u001b[1;31mView Jupyter <a href='command:jupyter.viewOutput'>log</a> for further details."
     ]
    }
   ],
   "source": [
    "nums = [1,2,3,1]\n",
    "len(nums) == len(set(nums))\n",
    "len(set(nums))"
   ]
  }
 ],
 "metadata": {
  "kernelspec": {
   "display_name": "Python 3",
   "language": "python",
   "name": "python3"
  },
  "language_info": {
   "codemirror_mode": {
    "name": "ipython",
    "version": 3
   },
   "file_extension": ".py",
   "mimetype": "text/x-python",
   "name": "python",
   "nbconvert_exporter": "python",
   "pygments_lexer": "ipython3",
   "version": "3.12.0"
  }
 },
 "nbformat": 4,
 "nbformat_minor": 5
}
